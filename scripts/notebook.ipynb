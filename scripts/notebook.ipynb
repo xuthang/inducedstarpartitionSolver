{
 "cells": [
  {
   "cell_type": "code",
   "execution_count": null,
   "metadata": {},
   "outputs": [],
   "source": [
    "import pandas as pd\n",
    "import matplotlib\n",
    "import matplotlib.pyplot as plt\n",
    "import seaborn as sns\n",
    "import numpy as np\n",
    "from matplotlib.pyplot import figure"
   ]
  },
  {
   "cell_type": "code",
   "execution_count": null,
   "metadata": {},
   "outputs": [],
   "source": [
    "save = False\n",
    "if save:\n",
    "\tmatplotlib.use(\"pgf\")\n",
    "\tmatplotlib.rcParams.update({\n",
    "\t\t\"pgf.texsystem\": \"pdflatex\",\n",
    "\t\t'font.family': 'serif',\n",
    "\t\t'text.usetex': True,\n",
    "\t\t'pgf.rcfonts': False,\n",
    "\t})\n",
    "\n",
    "saveLoc = 'graphs/'"
   ]
  },
  {
   "cell_type": "code",
   "execution_count": null,
   "metadata": {},
   "outputs": [],
   "source": [
    "loc = \"measuring/\"\n",
    "\n",
    "small = pd.read_csv(loc+\"small.csv\")\n",
    "bign = pd.read_csv(loc+'bign.csv')\n",
    "verybign = pd.read_csv(loc+'verybign.csv')\n",
    "bigvc = pd.read_csv(loc+'bigvc.csv')\n",
    "\n",
    "def addLogtime(df):\n",
    "    df['logtime'] = df['time'].apply(np.log2)\n",
    "    return df\n",
    "\n",
    "small = addLogtime(small)\n",
    "bign = addLogtime(bign)\n",
    "verybign = addLogtime(verybign)\n",
    "bigvc = addLogtime(bigvc)"
   ]
  },
  {
   "cell_type": "code",
   "execution_count": null,
   "metadata": {},
   "outputs": [],
   "source": [
    "for er in [0.2, 0.6, 0.8, 1] :\n",
    "\tfor n in [10, 30, 60, 100] :\n",
    "\t\tfor q in [2, 5, 9] :\n",
    "\t\t\tdf = small[ (small['edge_rate'] == er) & (small['n'] == n) & (small['vc'] == q)]\n",
    "\t\t\t# display(df)\n",
    "\n",
    "df = small[ (small['edge_rate'].isin([0.2, 0.6, 0.8, 1]))\n",
    "\t   & (small['n'].isin( [10, 30, 60, 100]))\n",
    "\t   & (small['vc'].isin(  [2, 5, 9] ))\n",
    "\t]\n",
    "# display(df)"
   ]
  },
  {
   "cell_type": "code",
   "execution_count": null,
   "metadata": {},
   "outputs": [],
   "source": [
    "tmp = small[(small['edge_rate'] == 0.6 )\n",
    "\t\t&  small['n'].isin(list(range(10, 101, 20)) + [100])\n",
    "\t\t& (small['vc'] > 1)\n",
    "\t].drop(['logtime'], axis=1).reset_index(drop=True)\n",
    "tmp['time[ms]'] = tmp['time'].round(1);\n",
    "tmp = tmp.drop(['time', 'edge_rate'], axis=1)\n",
    "\n",
    "dfs = np.array_split(tmp, 2)\n",
    "for df in dfs:\n",
    "\tprint(df.to_latex())\n"
   ]
  },
  {
   "cell_type": "code",
   "execution_count": null,
   "metadata": {},
   "outputs": [],
   "source": [
    "small[small['time'] == small['time'].max()]"
   ]
  },
  {
   "cell_type": "code",
   "execution_count": null,
   "metadata": {},
   "outputs": [],
   "source": [
    "df = small[small['time'].isin(sorted(small['time'], reverse=True)[:5])]\n",
    "df = df.drop('logtime', axis=1).reset_index(drop=True).rename({'time' : 'time[ms]'}, axis=1)\n",
    "\n",
    "print(df.to_latex())"
   ]
  },
  {
   "cell_type": "code",
   "execution_count": null,
   "metadata": {},
   "outputs": [],
   "source": [
    "display(bigvc.count())\n",
    "print(bigvc['time'].max()/1000/60, 'minutes longest instance')\n",
    "display(bigvc[bigvc['time'] == bigvc['time'].max()])\n",
    "# display(bigvc['time'].replace(np.nan, 20*60*1000))\n",
    "print(bigvc['time'].replace(np.nan, 20*60*1000).sum()/1000/60/60, 'hours total')"
   ]
  },
  {
   "cell_type": "code",
   "execution_count": null,
   "metadata": {},
   "outputs": [],
   "source": [
    "df = bigvc[~bigvc.isnull().any(axis=1)]\n",
    "display(df)\n",
    "\n",
    "\n",
    "df = df[df['time'].isin(sorted(df['time'], reverse=True)[:5])]\n",
    "df = df.drop('logtime', axis=1).reset_index(drop=True).rename({'time' : 'time[ms]'}, axis=1)\n",
    "\n",
    "print(df.to_latex())"
   ]
  },
  {
   "cell_type": "code",
   "execution_count": null,
   "metadata": {},
   "outputs": [],
   "source": [
    "curDF = small[small['vc'] == 9].reset_index(drop=True)\n",
    "l = []\n",
    "\n",
    "figure(figsize=(8, 6), dpi=80)\n",
    "for i in range(1, 11, 2):\n",
    "\te = i/10\n",
    "\tl.append(f'd = {e}')\n",
    "\tplt.plot(curDF[curDF['edge_rate'] == e]['n'], curDF[curDF['edge_rate'] == e]['time'])\n",
    "# plt.title('relation with growing edge_rate')\n",
    "plt.legend(l)\n",
    "plt.xlabel('n')\n",
    "plt.ylabel('time[ms]')\n",
    "\n",
    "if save:\n",
    "\tplt.savefig(saveLoc + 'smallGFixedVC.pgf')\n",
    "else:\n",
    "\tplt.show()"
   ]
  },
  {
   "cell_type": "code",
   "execution_count": null,
   "metadata": {},
   "outputs": [],
   "source": [
    "# curDF = small[small['edge_rate'] == 0.4].reset_index(drop=True)\n",
    "# for vc in small['vc'].unique():\n",
    "# \tplt.plot(curDF[curDF['vc'] == vc]['n'], curDF[curDF['vc'] == vc]['time'])\n",
    "# \tplt.title('VC = ' + str(vc))\n",
    "# \tplt.show()"
   ]
  },
  {
   "cell_type": "code",
   "execution_count": null,
   "metadata": {},
   "outputs": [],
   "source": [
    "for e in bign['edge_rate'].unique():\n",
    "\tfor vc in bign['vc'].unique():\n",
    "\t\tdf = bign[(bign['edge_rate'] ==e) &  (bign['vc'] == vc)]\n",
    "\t\tplt.plot(df['n'], df['time'].apply(lambda x : x / 1000))\n",
    "\tplt.legend(['vc = ' + str(vc) for vc in bign['vc'].unique()])\n",
    "\tplt.xlabel('n')\n",
    "\tplt.ylabel('time[s]')\n",
    "\tplt.title(f'edge rate = {e}')\n",
    "\tplt.show()\n"
   ]
  },
  {
   "cell_type": "code",
   "execution_count": null,
   "metadata": {},
   "outputs": [],
   "source": [
    "for edge_rate in bign['edge_rate'].unique():\n",
    "\tprint(edge_rate)\n",
    "\tdf = bign[bign['edge_rate'] == edge_rate]\n",
    "\tfor vc in df['vc'].unique():\n",
    "\t\tplt.plot(df[df['vc'] == vc]['n'], df[df['vc'] == vc]['time'])\n",
    "\tplt.legend(df['vc'].unique())\n",
    "\tplt.show()"
   ]
  },
  {
   "cell_type": "code",
   "execution_count": null,
   "metadata": {},
   "outputs": [],
   "source": [
    "for edge_rate in verybign['edge_rate'].unique():\n",
    "\tprint(edge_rate)\n",
    "\tdf = verybign[verybign['edge_rate'] == edge_rate]\n",
    "\tfor vc in df['vc'].unique():\n",
    "\t\tplt.plot(df[df['vc'] == vc]['n'], df[df['vc'] == vc]['time'], marker='o', linestyle='dashed')\n",
    "\tplt.legend(df['vc'].unique())\n",
    "\tplt.show()"
   ]
  },
  {
   "cell_type": "code",
   "execution_count": null,
   "metadata": {},
   "outputs": [],
   "source": [
    "for e in [0.6]:\n",
    "\tfor vc in bigvc['vc'].unique():\n",
    "\t\tdf = bigvc[ (bigvc['edge_rate'] == e) ]\n",
    "\t\tdisplay(df)\n",
    "\t\tplt.plot(df['n'], df['time'])\n",
    "\tplt.show()\n",
    "bigvc"
   ]
  },
  {
   "cell_type": "code",
   "execution_count": null,
   "metadata": {},
   "outputs": [],
   "source": [
    "def texit(df):\n",
    "\tdf = df.drop(['logtime'], axis=1).reset_index(drop=True)\n",
    "\tdf['time[s]'] = df['time'].apply(lambda x : x /1000).round(1);\n",
    "\tdf = df.drop(['time', 'q'], axis=1)\n",
    "\tdf = df.fillna('-')\n",
    "\t# df = df.replace(\"-1\", \"-\")\n",
    "\tprint(df.to_latex())\n",
    "\n",
    "tmp = bigvc[(bigvc['edge_rate'] < 0.6 )]\n",
    "texit(tmp)\n",
    "# display(tmp)\n",
    "\n",
    "\n",
    "tmp = bigvc[(bigvc['edge_rate'] == 0.6 )]\n",
    "texit(tmp)\n",
    "\n",
    "\n",
    "\n",
    "# dfs = np.array_split(tmp, 2)\n",
    "# for df in dfs:\n",
    "# \tprint(df.to_latex())\n"
   ]
  },
  {
   "cell_type": "code",
   "execution_count": null,
   "metadata": {},
   "outputs": [],
   "source": [
    "df = verybign\n",
    "df = df[~df.isnull().any(axis=1)]\n",
    "df = df[df['vc'] == 5]\n",
    "df['time'] = df['time'].apply(lambda x : x /1000).round(1)\n",
    "# df['d'] = df['edge_rate']\n",
    "df = df.rename({'edge_rate' : 'd', 'time' : 'time[s]'}, axis=1)\n",
    "df['q'] = df['q'].astype(int)\n",
    "df = df.drop(['logtime'], axis = 1)\n",
    "\n",
    "print(df.to_latex())"
   ]
  },
  {
   "attachments": {},
   "cell_type": "markdown",
   "metadata": {},
   "source": []
  }
 ],
 "metadata": {
  "kernelspec": {
   "display_name": "Python 3",
   "language": "python",
   "name": "python3"
  },
  "language_info": {
   "codemirror_mode": {
    "name": "ipython",
    "version": 3
   },
   "file_extension": ".py",
   "mimetype": "text/x-python",
   "name": "python",
   "nbconvert_exporter": "python",
   "pygments_lexer": "ipython3",
   "version": "3.8.10"
  },
  "orig_nbformat": 4
 },
 "nbformat": 4,
 "nbformat_minor": 2
}
